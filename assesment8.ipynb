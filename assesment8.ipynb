{
  "nbformat": 4,
  "nbformat_minor": 0,
  "metadata": {
    "colab": {
      "name": "assesment8.ipynb",
      "provenance": [],
      "collapsed_sections": [],
      "include_colab_link": true
    },
    "kernelspec": {
      "name": "ir",
      "display_name": "R"
    }
  },
  "cells": [
    {
      "cell_type": "markdown",
      "metadata": {
        "id": "view-in-github",
        "colab_type": "text"
      },
      "source": [
        "<a href=\"https://colab.research.google.com/github/Darren0735/Darren/blob/master/assesment8.ipynb\" target=\"_parent\"><img src=\"https://colab.research.google.com/assets/colab-badge.svg\" alt=\"Open In Colab\"/></a>"
      ]
    },
    {
      "cell_type": "code",
      "metadata": {
        "id": "bzKFdM4adItr",
        "outputId": "7ca9d3cb-e1f2-4ed5-f94d-4bdc40ad2a06",
        "colab": {
          "base_uri": "https://localhost:8080/"
        }
      },
      "source": [
        "install.packages(\"rJava\")"
      ],
      "execution_count": 3,
      "outputs": [
        {
          "output_type": "stream",
          "text": [
            "Installing package into ‘/usr/local/lib/R/site-library’\n",
            "(as ‘lib’ is unspecified)\n",
            "\n"
          ],
          "name": "stderr"
        }
      ]
    },
    {
      "cell_type": "code",
      "metadata": {
        "id": "-qqx6UH6dSzY",
        "outputId": "1a2f7f99-22e6-4a94-a562-ea90448590c5",
        "colab": {
          "base_uri": "https://localhost:8080/"
        }
      },
      "source": [
        "install.packages(\"jiebaR\")"
      ],
      "execution_count": 2,
      "outputs": [
        {
          "output_type": "stream",
          "text": [
            "Installing package into ‘/usr/local/lib/R/site-library’\n",
            "(as ‘lib’ is unspecified)\n",
            "\n",
            "also installing the dependency ‘jiebaRD’\n",
            "\n",
            "\n"
          ],
          "name": "stderr"
        }
      ]
    },
    {
      "cell_type": "code",
      "metadata": {
        "id": "W2U0ifVIdZzS",
        "outputId": "7c89f246-0d09-4aa8-cf9f-9e22a762c7fc",
        "colab": {
          "base_uri": "https://localhost:8080/"
        }
      },
      "source": [
        "install.packages(\"tmcn\")"
      ],
      "execution_count": 4,
      "outputs": [
        {
          "output_type": "stream",
          "text": [
            "Installing package into ‘/usr/local/lib/R/site-library’\n",
            "(as ‘lib’ is unspecified)\n",
            "\n"
          ],
          "name": "stderr"
        }
      ]
    },
    {
      "cell_type": "code",
      "metadata": {
        "id": "tcbXVwwzdgjM",
        "outputId": "9186c647-0e46-4a12-cfa7-8e6307f5d71e",
        "colab": {
          "base_uri": "https://localhost:8080/"
        }
      },
      "source": [
        "install.packages(\"dplyr\")"
      ],
      "execution_count": 5,
      "outputs": [
        {
          "output_type": "stream",
          "text": [
            "Installing package into ‘/usr/local/lib/R/site-library’\n",
            "(as ‘lib’ is unspecified)\n",
            "\n"
          ],
          "name": "stderr"
        }
      ]
    },
    {
      "cell_type": "code",
      "metadata": {
        "id": "mJ24SG5fdmPu",
        "outputId": "954b5dee-8300-44f2-8890-1aa79ab887c4",
        "colab": {
          "base_uri": "https://localhost:8080/"
        }
      },
      "source": [
        "install.packages(\"lubridate\")"
      ],
      "execution_count": 6,
      "outputs": [
        {
          "output_type": "stream",
          "text": [
            "Installing package into ‘/usr/local/lib/R/site-library’\n",
            "(as ‘lib’ is unspecified)\n",
            "\n"
          ],
          "name": "stderr"
        }
      ]
    },
    {
      "cell_type": "code",
      "metadata": {
        "id": "h_ASC17Mdrse",
        "outputId": "6159f85a-d441-45ae-cfaa-d8cee74f53fb",
        "colab": {
          "base_uri": "https://localhost:8080/"
        }
      },
      "source": [
        "install.packages(\"stringr\")"
      ],
      "execution_count": 7,
      "outputs": [
        {
          "output_type": "stream",
          "text": [
            "Installing package into ‘/usr/local/lib/R/site-library’\n",
            "(as ‘lib’ is unspecified)\n",
            "\n"
          ],
          "name": "stderr"
        }
      ]
    },
    {
      "cell_type": "code",
      "metadata": {
        "id": "L68lxs3zdu3o",
        "outputId": "a5171476-a1e4-4494-f0d7-052e424e1353",
        "colab": {
          "base_uri": "https://localhost:8080/"
        }
      },
      "source": [
        "install.packages(\"wordcloud\")"
      ],
      "execution_count": 48,
      "outputs": [
        {
          "output_type": "stream",
          "text": [
            "Installing package into ‘/usr/local/lib/R/site-library’\n",
            "(as ‘lib’ is unspecified)\n",
            "\n"
          ],
          "name": "stderr"
        }
      ]
    },
    {
      "cell_type": "code",
      "metadata": {
        "id": "mBlyOKt5dzZf",
        "outputId": "e0689138-535c-453b-a814-ab0a9fd5b33d",
        "colab": {
          "base_uri": "https://localhost:8080/"
        }
      },
      "source": [
        "install.packages(\"Rwordseg\",repos = \"http://R-Forge.R-project.org\")"
      ],
      "execution_count": 13,
      "outputs": [
        {
          "output_type": "stream",
          "text": [
            "Installing package into ‘/usr/local/lib/R/site-library’\n",
            "(as ‘lib’ is unspecified)\n",
            "\n",
            "Warning message:\n",
            "“dependency ‘HMM’ is not available”\n",
            "Warning message in install.packages(\"Rwordseg\", repos = \"https://R-Forge.R-project.org\"):\n",
            "“installation of package ‘Rwordseg’ had non-zero exit status”\n"
          ],
          "name": "stderr"
        }
      ]
    },
    {
      "cell_type": "code",
      "metadata": {
        "id": "bSYFjccweh7S"
      },
      "source": [
        "library(dplyr)\n",
        "library(lubridate)\n",
        "library(stringr)\n",
        "library(jiebaR)\n",
        "library(wordcloud)"
      ],
      "execution_count": 50,
      "outputs": []
    },
    {
      "cell_type": "code",
      "metadata": {
        "id": "nHARpBrOeoGh"
      },
      "source": [
        "content<-\"嚴重特殊傳染性肺炎疫情持續在全球蔓延，已造成三千多萬人感染，死亡人數破百萬人，歐美醫療體系近乎崩潰，各種行動限制對於各國經濟更有莫大之衝擊。然而台灣未實行大規模封鎖行動，維持正常上班上課與各種經濟活動，至今無大規模疫情爆發，醫療體系也仍能正常提供民衆服務，顯示台灣的防疫政策正確而有效，獲得世界各國高度肯定。國家衛生研究院群體健康學研究所與感染症與疫苗研究所合作，利用真實數據與數學模型證實，良好的邊境管控，詳盡的疫情調查，確實的隔離與檢疫，以及民衆遵行防疫措施，為台灣抗疫四大支柱。台灣也對世界各國提供各項協助與經驗分享，期望幫助各國儘快從疫情的陰霾中走出\""
      ],
      "execution_count": 14,
      "outputs": []
    },
    {
      "cell_type": "code",
      "metadata": {
        "id": "8Z-tGvfpiTj_"
      },
      "source": [
        "cutter<-worker(bylines=F)"
      ],
      "execution_count": 15,
      "outputs": []
    },
    {
      "cell_type": "code",
      "metadata": {
        "id": "lEJoI7vQica2",
        "outputId": "a3d66172-9a05-45cc-e8a6-51066a6ab7b6",
        "colab": {
          "base_uri": "https://localhost:8080/",
          "height": 190
        }
      },
      "source": [
        "cutter[content]"
      ],
      "execution_count": 24,
      "outputs": [
        {
          "output_type": "display_data",
          "data": {
            "text/plain": [
              "  [1] \"嚴重\"           \"特殊\"           \"傳染性\"         \"肺炎\"          \n",
              "  [5] \"疫情\"           \"持續\"           \"在\"             \"全球\"          \n",
              "  [9] \"蔓延\"           \"已\"             \"造成\"           \"三千多萬\"      \n",
              " [13] \"人\"             \"感染\"           \"死亡\"           \"人數\"          \n",
              " [17] \"破\"             \"百萬\"           \"人\"             \"歐美\"          \n",
              " [21] \"醫療\"           \"體系\"           \"近乎\"           \"崩潰\"          \n",
              " [25] \"各種\"           \"行動\"           \"限制\"           \"對於\"          \n",
              " [29] \"各國\"           \"經濟\"           \"更\"             \"有\"            \n",
              " [33] \"莫大\"           \"之\"             \"衝擊\"           \"然而\"          \n",
              " [37] \"台灣\"           \"未\"             \"實行\"           \"大規模\"        \n",
              " [41] \"封鎖\"           \"行動\"           \"維持\"           \"正常\"          \n",
              " [45] \"上班\"           \"上課\"           \"與\"             \"各種\"          \n",
              " [49] \"經濟\"           \"活動\"           \"至今\"           \"無\"            \n",
              " [53] \"大規模\"         \"疫情\"           \"爆發\"           \"醫療\"          \n",
              " [57] \"體系\"           \"也\"             \"仍\"             \"能\"            \n",
              " [61] \"正常\"           \"提供\"           \"民衆服務\"       \"顯示\"          \n",
              " [65] \"台灣\"           \"的\"             \"防疫\"           \"政策\"          \n",
              " [69] \"正確\"           \"而\"             \"有效\"           \"獲得\"          \n",
              " [73] \"世界\"           \"各國\"           \"高度肯定\"       \"國家衛生研究院\"\n",
              " [77] \"群體\"           \"健康\"           \"學\"             \"研究所\"        \n",
              " [81] \"與\"             \"感染\"           \"症\"             \"與\"            \n",
              " [85] \"疫苗\"           \"研究所\"         \"合作\"           \"利用\"          \n",
              " [89] \"真實\"           \"數據\"           \"與\"             \"數學模型\"      \n",
              " [93] \"證實\"           \"良好\"           \"的\"             \"邊境\"          \n",
              " [97] \"管控\"           \"詳盡\"           \"的\"             \"疫情\"          \n",
              "[101] \"調查\"           \"確實\"           \"的\"             \"隔離\"          \n",
              "[105] \"與\"             \"檢疫\"           \"以及\"           \"民衆\"          \n",
              "[109] \"遵行\"           \"防疫\"           \"措施\"           \"為\"            \n",
              "[113] \"台灣\"           \"抗疫\"           \"四大\"           \"支柱\"          \n",
              "[117] \"台灣\"           \"也\"             \"對\"             \"世界\"          \n",
              "[121] \"各國\"           \"提供\"           \"各項\"           \"協助\"          \n",
              "[125] \"與\"             \"經驗\"           \"分享\"           \"期望\"          \n",
              "[129] \"幫助\"           \"各國\"           \"儘快\"           \"從\"            \n",
              "[133] \"疫情\"           \"的\"             \"陰霾\"           \"中\"            \n",
              "[137] \"走出\"          "
            ],
            "text/latex": "\\begin{enumerate*}\n\\item '嚴重'\n\\item '特殊'\n\\item '傳染性'\n\\item '肺炎'\n\\item '疫情'\n\\item '持續'\n\\item '在'\n\\item '全球'\n\\item '蔓延'\n\\item '已'\n\\item '造成'\n\\item '三千多萬'\n\\item '人'\n\\item '感染'\n\\item '死亡'\n\\item '人數'\n\\item '破'\n\\item '百萬'\n\\item '人'\n\\item '歐美'\n\\item '醫療'\n\\item '體系'\n\\item '近乎'\n\\item '崩潰'\n\\item '各種'\n\\item '行動'\n\\item '限制'\n\\item '對於'\n\\item '各國'\n\\item '經濟'\n\\item '更'\n\\item '有'\n\\item '莫大'\n\\item '之'\n\\item '衝擊'\n\\item '然而'\n\\item '台灣'\n\\item '未'\n\\item '實行'\n\\item '大規模'\n\\item '封鎖'\n\\item '行動'\n\\item '維持'\n\\item '正常'\n\\item '上班'\n\\item '上課'\n\\item '與'\n\\item '各種'\n\\item '經濟'\n\\item '活動'\n\\item '至今'\n\\item '無'\n\\item '大規模'\n\\item '疫情'\n\\item '爆發'\n\\item '醫療'\n\\item '體系'\n\\item '也'\n\\item '仍'\n\\item '能'\n\\item '正常'\n\\item '提供'\n\\item '民衆服務'\n\\item '顯示'\n\\item '台灣'\n\\item '的'\n\\item '防疫'\n\\item '政策'\n\\item '正確'\n\\item '而'\n\\item '有效'\n\\item '獲得'\n\\item '世界'\n\\item '各國'\n\\item '高度肯定'\n\\item '國家衛生研究院'\n\\item '群體'\n\\item '健康'\n\\item '學'\n\\item '研究所'\n\\item '與'\n\\item '感染'\n\\item '症'\n\\item '與'\n\\item '疫苗'\n\\item '研究所'\n\\item '合作'\n\\item '利用'\n\\item '真實'\n\\item '數據'\n\\item '與'\n\\item '數學模型'\n\\item '證實'\n\\item '良好'\n\\item '的'\n\\item '邊境'\n\\item '管控'\n\\item '詳盡'\n\\item '的'\n\\item '疫情'\n\\item '調查'\n\\item '確實'\n\\item '的'\n\\item '隔離'\n\\item '與'\n\\item '檢疫'\n\\item '以及'\n\\item '民衆'\n\\item '遵行'\n\\item '防疫'\n\\item '措施'\n\\item '為'\n\\item '台灣'\n\\item '抗疫'\n\\item '四大'\n\\item '支柱'\n\\item '台灣'\n\\item '也'\n\\item '對'\n\\item '世界'\n\\item '各國'\n\\item '提供'\n\\item '各項'\n\\item '協助'\n\\item '與'\n\\item '經驗'\n\\item '分享'\n\\item '期望'\n\\item '幫助'\n\\item '各國'\n\\item '儘快'\n\\item '從'\n\\item '疫情'\n\\item '的'\n\\item '陰霾'\n\\item '中'\n\\item '走出'\n\\end{enumerate*}\n",
            "text/markdown": "1. '嚴重'\n2. '特殊'\n3. '傳染性'\n4. '肺炎'\n5. '疫情'\n6. '持續'\n7. '在'\n8. '全球'\n9. '蔓延'\n10. '已'\n11. '造成'\n12. '三千多萬'\n13. '人'\n14. '感染'\n15. '死亡'\n16. '人數'\n17. '破'\n18. '百萬'\n19. '人'\n20. '歐美'\n21. '醫療'\n22. '體系'\n23. '近乎'\n24. '崩潰'\n25. '各種'\n26. '行動'\n27. '限制'\n28. '對於'\n29. '各國'\n30. '經濟'\n31. '更'\n32. '有'\n33. '莫大'\n34. '之'\n35. '衝擊'\n36. '然而'\n37. '台灣'\n38. '未'\n39. '實行'\n40. '大規模'\n41. '封鎖'\n42. '行動'\n43. '維持'\n44. '正常'\n45. '上班'\n46. '上課'\n47. '與'\n48. '各種'\n49. '經濟'\n50. '活動'\n51. '至今'\n52. '無'\n53. '大規模'\n54. '疫情'\n55. '爆發'\n56. '醫療'\n57. '體系'\n58. '也'\n59. '仍'\n60. '能'\n61. '正常'\n62. '提供'\n63. '民衆服務'\n64. '顯示'\n65. '台灣'\n66. '的'\n67. '防疫'\n68. '政策'\n69. '正確'\n70. '而'\n71. '有效'\n72. '獲得'\n73. '世界'\n74. '各國'\n75. '高度肯定'\n76. '國家衛生研究院'\n77. '群體'\n78. '健康'\n79. '學'\n80. '研究所'\n81. '與'\n82. '感染'\n83. '症'\n84. '與'\n85. '疫苗'\n86. '研究所'\n87. '合作'\n88. '利用'\n89. '真實'\n90. '數據'\n91. '與'\n92. '數學模型'\n93. '證實'\n94. '良好'\n95. '的'\n96. '邊境'\n97. '管控'\n98. '詳盡'\n99. '的'\n100. '疫情'\n101. '調查'\n102. '確實'\n103. '的'\n104. '隔離'\n105. '與'\n106. '檢疫'\n107. '以及'\n108. '民衆'\n109. '遵行'\n110. '防疫'\n111. '措施'\n112. '為'\n113. '台灣'\n114. '抗疫'\n115. '四大'\n116. '支柱'\n117. '台灣'\n118. '也'\n119. '對'\n120. '世界'\n121. '各國'\n122. '提供'\n123. '各項'\n124. '協助'\n125. '與'\n126. '經驗'\n127. '分享'\n128. '期望'\n129. '幫助'\n130. '各國'\n131. '儘快'\n132. '從'\n133. '疫情'\n134. '的'\n135. '陰霾'\n136. '中'\n137. '走出'\n\n\n",
            "text/html": [
              "<style>\n",
              ".list-inline {list-style: none; margin:0; padding: 0}\n",
              ".list-inline>li {display: inline-block}\n",
              ".list-inline>li:not(:last-child)::after {content: \"\\00b7\"; padding: 0 .5ex}\n",
              "</style>\n",
              "<ol class=list-inline><li>'嚴重'</li><li>'特殊'</li><li>'傳染性'</li><li>'肺炎'</li><li>'疫情'</li><li>'持續'</li><li>'在'</li><li>'全球'</li><li>'蔓延'</li><li>'已'</li><li>'造成'</li><li>'三千多萬'</li><li>'人'</li><li>'感染'</li><li>'死亡'</li><li>'人數'</li><li>'破'</li><li>'百萬'</li><li>'人'</li><li>'歐美'</li><li>'醫療'</li><li>'體系'</li><li>'近乎'</li><li>'崩潰'</li><li>'各種'</li><li>'行動'</li><li>'限制'</li><li>'對於'</li><li>'各國'</li><li>'經濟'</li><li>'更'</li><li>'有'</li><li>'莫大'</li><li>'之'</li><li>'衝擊'</li><li>'然而'</li><li>'台灣'</li><li>'未'</li><li>'實行'</li><li>'大規模'</li><li>'封鎖'</li><li>'行動'</li><li>'維持'</li><li>'正常'</li><li>'上班'</li><li>'上課'</li><li>'與'</li><li>'各種'</li><li>'經濟'</li><li>'活動'</li><li>'至今'</li><li>'無'</li><li>'大規模'</li><li>'疫情'</li><li>'爆發'</li><li>'醫療'</li><li>'體系'</li><li>'也'</li><li>'仍'</li><li>'能'</li><li>'正常'</li><li>'提供'</li><li>'民衆服務'</li><li>'顯示'</li><li>'台灣'</li><li>'的'</li><li>'防疫'</li><li>'政策'</li><li>'正確'</li><li>'而'</li><li>'有效'</li><li>'獲得'</li><li>'世界'</li><li>'各國'</li><li>'高度肯定'</li><li>'國家衛生研究院'</li><li>'群體'</li><li>'健康'</li><li>'學'</li><li>'研究所'</li><li>'與'</li><li>'感染'</li><li>'症'</li><li>'與'</li><li>'疫苗'</li><li>'研究所'</li><li>'合作'</li><li>'利用'</li><li>'真實'</li><li>'數據'</li><li>'與'</li><li>'數學模型'</li><li>'證實'</li><li>'良好'</li><li>'的'</li><li>'邊境'</li><li>'管控'</li><li>'詳盡'</li><li>'的'</li><li>'疫情'</li><li>'調查'</li><li>'確實'</li><li>'的'</li><li>'隔離'</li><li>'與'</li><li>'檢疫'</li><li>'以及'</li><li>'民衆'</li><li>'遵行'</li><li>'防疫'</li><li>'措施'</li><li>'為'</li><li>'台灣'</li><li>'抗疫'</li><li>'四大'</li><li>'支柱'</li><li>'台灣'</li><li>'也'</li><li>'對'</li><li>'世界'</li><li>'各國'</li><li>'提供'</li><li>'各項'</li><li>'協助'</li><li>'與'</li><li>'經驗'</li><li>'分享'</li><li>'期望'</li><li>'幫助'</li><li>'各國'</li><li>'儘快'</li><li>'從'</li><li>'疫情'</li><li>'的'</li><li>'陰霾'</li><li>'中'</li><li>'走出'</li></ol>\n"
            ]
          },
          "metadata": {
            "tags": []
          }
        }
      ]
    },
    {
      "cell_type": "code",
      "metadata": {
        "id": "SmkONPRum636",
        "outputId": "72239f8e-b0cc-4fdd-b1f4-fb6288dffcb0",
        "colab": {
          "base_uri": "https://localhost:8080/",
          "height": 190
        }
      },
      "source": [
        "new_words<- c(\"傳染性肺炎\",\"醫療體系\",\"防疫措施\")\n",
        "for(i in 1:length(new_words))\n",
        "{new_user_word(cutter,new_words[i])}\n",
        "content <-str_remove_all(content,\"[0-9a-zA-Z]+?\")\n",
        "cutter[content]"
      ],
      "execution_count": 35,
      "outputs": [
        {
          "output_type": "display_data",
          "data": {
            "text/plain": [
              "  [1] \"嚴重\"           \"特殊\"           \"傳染性肺炎\"     \"疫情\"          \n",
              "  [5] \"持續\"           \"在\"             \"全球\"           \"蔓延\"          \n",
              "  [9] \"已\"             \"造成\"           \"三千多萬\"       \"人\"            \n",
              " [13] \"感染\"           \"死亡\"           \"人數\"           \"破\"            \n",
              " [17] \"百萬\"           \"人\"             \"歐美\"           \"醫療體系\"      \n",
              " [21] \"近乎\"           \"崩潰\"           \"各種\"           \"行動\"          \n",
              " [25] \"限制\"           \"對於\"           \"各國\"           \"經濟\"          \n",
              " [29] \"更\"             \"有\"             \"莫大\"           \"之\"            \n",
              " [33] \"衝擊\"           \"然而\"           \"台灣\"           \"未\"            \n",
              " [37] \"實行\"           \"大規模\"         \"封鎖\"           \"行動\"          \n",
              " [41] \"維持\"           \"正常\"           \"上班\"           \"上課\"          \n",
              " [45] \"與\"             \"各種\"           \"經濟\"           \"活動\"          \n",
              " [49] \"至今\"           \"無\"             \"大規模\"         \"疫情\"          \n",
              " [53] \"爆發\"           \"醫療體系\"       \"也\"             \"仍\"            \n",
              " [57] \"能\"             \"正常\"           \"提供\"           \"民衆服務\"      \n",
              " [61] \"顯示\"           \"台灣\"           \"的\"             \"防疫\"          \n",
              " [65] \"政策\"           \"正確\"           \"而\"             \"有效\"          \n",
              " [69] \"獲得\"           \"世界\"           \"各國\"           \"高度肯定\"      \n",
              " [73] \"國家衛生研究院\" \"群體\"           \"健康\"           \"學\"            \n",
              " [77] \"研究所\"         \"與\"             \"感染\"           \"症\"            \n",
              " [81] \"與\"             \"疫苗\"           \"研究所\"         \"合作\"          \n",
              " [85] \"利用\"           \"真實\"           \"數據\"           \"與\"            \n",
              " [89] \"數學模型\"       \"證實\"           \"良好\"           \"的\"            \n",
              " [93] \"邊境\"           \"管控\"           \"詳盡\"           \"的\"            \n",
              " [97] \"疫情\"           \"調查\"           \"確實\"           \"的\"            \n",
              "[101] \"隔離\"           \"與\"             \"檢疫\"           \"以及\"          \n",
              "[105] \"民衆\"           \"遵行\"           \"防疫措施\"       \"為\"            \n",
              "[109] \"台灣\"           \"抗疫\"           \"四大\"           \"支柱\"          \n",
              "[113] \"台灣\"           \"也\"             \"對\"             \"世界\"          \n",
              "[117] \"各國\"           \"提供\"           \"各項\"           \"協助\"          \n",
              "[121] \"與\"             \"經驗\"           \"分享\"           \"期望\"          \n",
              "[125] \"幫助\"           \"各國\"           \"儘快\"           \"從\"            \n",
              "[129] \"疫情\"           \"的\"             \"陰霾\"           \"中\"            \n",
              "[133] \"走出\"          "
            ],
            "text/latex": "\\begin{enumerate*}\n\\item '嚴重'\n\\item '特殊'\n\\item '傳染性肺炎'\n\\item '疫情'\n\\item '持續'\n\\item '在'\n\\item '全球'\n\\item '蔓延'\n\\item '已'\n\\item '造成'\n\\item '三千多萬'\n\\item '人'\n\\item '感染'\n\\item '死亡'\n\\item '人數'\n\\item '破'\n\\item '百萬'\n\\item '人'\n\\item '歐美'\n\\item '醫療體系'\n\\item '近乎'\n\\item '崩潰'\n\\item '各種'\n\\item '行動'\n\\item '限制'\n\\item '對於'\n\\item '各國'\n\\item '經濟'\n\\item '更'\n\\item '有'\n\\item '莫大'\n\\item '之'\n\\item '衝擊'\n\\item '然而'\n\\item '台灣'\n\\item '未'\n\\item '實行'\n\\item '大規模'\n\\item '封鎖'\n\\item '行動'\n\\item '維持'\n\\item '正常'\n\\item '上班'\n\\item '上課'\n\\item '與'\n\\item '各種'\n\\item '經濟'\n\\item '活動'\n\\item '至今'\n\\item '無'\n\\item '大規模'\n\\item '疫情'\n\\item '爆發'\n\\item '醫療體系'\n\\item '也'\n\\item '仍'\n\\item '能'\n\\item '正常'\n\\item '提供'\n\\item '民衆服務'\n\\item '顯示'\n\\item '台灣'\n\\item '的'\n\\item '防疫'\n\\item '政策'\n\\item '正確'\n\\item '而'\n\\item '有效'\n\\item '獲得'\n\\item '世界'\n\\item '各國'\n\\item '高度肯定'\n\\item '國家衛生研究院'\n\\item '群體'\n\\item '健康'\n\\item '學'\n\\item '研究所'\n\\item '與'\n\\item '感染'\n\\item '症'\n\\item '與'\n\\item '疫苗'\n\\item '研究所'\n\\item '合作'\n\\item '利用'\n\\item '真實'\n\\item '數據'\n\\item '與'\n\\item '數學模型'\n\\item '證實'\n\\item '良好'\n\\item '的'\n\\item '邊境'\n\\item '管控'\n\\item '詳盡'\n\\item '的'\n\\item '疫情'\n\\item '調查'\n\\item '確實'\n\\item '的'\n\\item '隔離'\n\\item '與'\n\\item '檢疫'\n\\item '以及'\n\\item '民衆'\n\\item '遵行'\n\\item '防疫措施'\n\\item '為'\n\\item '台灣'\n\\item '抗疫'\n\\item '四大'\n\\item '支柱'\n\\item '台灣'\n\\item '也'\n\\item '對'\n\\item '世界'\n\\item '各國'\n\\item '提供'\n\\item '各項'\n\\item '協助'\n\\item '與'\n\\item '經驗'\n\\item '分享'\n\\item '期望'\n\\item '幫助'\n\\item '各國'\n\\item '儘快'\n\\item '從'\n\\item '疫情'\n\\item '的'\n\\item '陰霾'\n\\item '中'\n\\item '走出'\n\\end{enumerate*}\n",
            "text/markdown": "1. '嚴重'\n2. '特殊'\n3. '傳染性肺炎'\n4. '疫情'\n5. '持續'\n6. '在'\n7. '全球'\n8. '蔓延'\n9. '已'\n10. '造成'\n11. '三千多萬'\n12. '人'\n13. '感染'\n14. '死亡'\n15. '人數'\n16. '破'\n17. '百萬'\n18. '人'\n19. '歐美'\n20. '醫療體系'\n21. '近乎'\n22. '崩潰'\n23. '各種'\n24. '行動'\n25. '限制'\n26. '對於'\n27. '各國'\n28. '經濟'\n29. '更'\n30. '有'\n31. '莫大'\n32. '之'\n33. '衝擊'\n34. '然而'\n35. '台灣'\n36. '未'\n37. '實行'\n38. '大規模'\n39. '封鎖'\n40. '行動'\n41. '維持'\n42. '正常'\n43. '上班'\n44. '上課'\n45. '與'\n46. '各種'\n47. '經濟'\n48. '活動'\n49. '至今'\n50. '無'\n51. '大規模'\n52. '疫情'\n53. '爆發'\n54. '醫療體系'\n55. '也'\n56. '仍'\n57. '能'\n58. '正常'\n59. '提供'\n60. '民衆服務'\n61. '顯示'\n62. '台灣'\n63. '的'\n64. '防疫'\n65. '政策'\n66. '正確'\n67. '而'\n68. '有效'\n69. '獲得'\n70. '世界'\n71. '各國'\n72. '高度肯定'\n73. '國家衛生研究院'\n74. '群體'\n75. '健康'\n76. '學'\n77. '研究所'\n78. '與'\n79. '感染'\n80. '症'\n81. '與'\n82. '疫苗'\n83. '研究所'\n84. '合作'\n85. '利用'\n86. '真實'\n87. '數據'\n88. '與'\n89. '數學模型'\n90. '證實'\n91. '良好'\n92. '的'\n93. '邊境'\n94. '管控'\n95. '詳盡'\n96. '的'\n97. '疫情'\n98. '調查'\n99. '確實'\n100. '的'\n101. '隔離'\n102. '與'\n103. '檢疫'\n104. '以及'\n105. '民衆'\n106. '遵行'\n107. '防疫措施'\n108. '為'\n109. '台灣'\n110. '抗疫'\n111. '四大'\n112. '支柱'\n113. '台灣'\n114. '也'\n115. '對'\n116. '世界'\n117. '各國'\n118. '提供'\n119. '各項'\n120. '協助'\n121. '與'\n122. '經驗'\n123. '分享'\n124. '期望'\n125. '幫助'\n126. '各國'\n127. '儘快'\n128. '從'\n129. '疫情'\n130. '的'\n131. '陰霾'\n132. '中'\n133. '走出'\n\n\n",
            "text/html": [
              "<style>\n",
              ".list-inline {list-style: none; margin:0; padding: 0}\n",
              ".list-inline>li {display: inline-block}\n",
              ".list-inline>li:not(:last-child)::after {content: \"\\00b7\"; padding: 0 .5ex}\n",
              "</style>\n",
              "<ol class=list-inline><li>'嚴重'</li><li>'特殊'</li><li>'傳染性肺炎'</li><li>'疫情'</li><li>'持續'</li><li>'在'</li><li>'全球'</li><li>'蔓延'</li><li>'已'</li><li>'造成'</li><li>'三千多萬'</li><li>'人'</li><li>'感染'</li><li>'死亡'</li><li>'人數'</li><li>'破'</li><li>'百萬'</li><li>'人'</li><li>'歐美'</li><li>'醫療體系'</li><li>'近乎'</li><li>'崩潰'</li><li>'各種'</li><li>'行動'</li><li>'限制'</li><li>'對於'</li><li>'各國'</li><li>'經濟'</li><li>'更'</li><li>'有'</li><li>'莫大'</li><li>'之'</li><li>'衝擊'</li><li>'然而'</li><li>'台灣'</li><li>'未'</li><li>'實行'</li><li>'大規模'</li><li>'封鎖'</li><li>'行動'</li><li>'維持'</li><li>'正常'</li><li>'上班'</li><li>'上課'</li><li>'與'</li><li>'各種'</li><li>'經濟'</li><li>'活動'</li><li>'至今'</li><li>'無'</li><li>'大規模'</li><li>'疫情'</li><li>'爆發'</li><li>'醫療體系'</li><li>'也'</li><li>'仍'</li><li>'能'</li><li>'正常'</li><li>'提供'</li><li>'民衆服務'</li><li>'顯示'</li><li>'台灣'</li><li>'的'</li><li>'防疫'</li><li>'政策'</li><li>'正確'</li><li>'而'</li><li>'有效'</li><li>'獲得'</li><li>'世界'</li><li>'各國'</li><li>'高度肯定'</li><li>'國家衛生研究院'</li><li>'群體'</li><li>'健康'</li><li>'學'</li><li>'研究所'</li><li>'與'</li><li>'感染'</li><li>'症'</li><li>'與'</li><li>'疫苗'</li><li>'研究所'</li><li>'合作'</li><li>'利用'</li><li>'真實'</li><li>'數據'</li><li>'與'</li><li>'數學模型'</li><li>'證實'</li><li>'良好'</li><li>'的'</li><li>'邊境'</li><li>'管控'</li><li>'詳盡'</li><li>'的'</li><li>'疫情'</li><li>'調查'</li><li>'確實'</li><li>'的'</li><li>'隔離'</li><li>'與'</li><li>'檢疫'</li><li>'以及'</li><li>'民衆'</li><li>'遵行'</li><li>'防疫措施'</li><li>'為'</li><li>'台灣'</li><li>'抗疫'</li><li>'四大'</li><li>'支柱'</li><li>'台灣'</li><li>'也'</li><li>'對'</li><li>'世界'</li><li>'各國'</li><li>'提供'</li><li>'各項'</li><li>'協助'</li><li>'與'</li><li>'經驗'</li><li>'分享'</li><li>'期望'</li><li>'幫助'</li><li>'各國'</li><li>'儘快'</li><li>'從'</li><li>'疫情'</li><li>'的'</li><li>'陰霾'</li><li>'中'</li><li>'走出'</li></ol>\n"
            ]
          },
          "metadata": {
            "tags": []
          }
        }
      ]
    },
    {
      "cell_type": "code",
      "metadata": {
        "id": "ntctgbVGndB2",
        "outputId": "7a73178c-438b-4dde-eda9-975abfcdd7fd",
        "colab": {
          "base_uri": "https://localhost:8080/",
          "height": 190
        }
      },
      "source": [
        "content <-str_remove_all(content,\"[0-9a-zA-Z]+?\")\n",
        "cutter[content]"
      ],
      "execution_count": 36,
      "outputs": [
        {
          "output_type": "display_data",
          "data": {
            "text/plain": [
              "  [1] \"嚴重\"           \"特殊\"           \"傳染性肺炎\"     \"疫情\"          \n",
              "  [5] \"持續\"           \"在\"             \"全球\"           \"蔓延\"          \n",
              "  [9] \"已\"             \"造成\"           \"三千多萬\"       \"人\"            \n",
              " [13] \"感染\"           \"死亡\"           \"人數\"           \"破\"            \n",
              " [17] \"百萬\"           \"人\"             \"歐美\"           \"醫療體系\"      \n",
              " [21] \"近乎\"           \"崩潰\"           \"各種\"           \"行動\"          \n",
              " [25] \"限制\"           \"對於\"           \"各國\"           \"經濟\"          \n",
              " [29] \"更\"             \"有\"             \"莫大\"           \"之\"            \n",
              " [33] \"衝擊\"           \"然而\"           \"台灣\"           \"未\"            \n",
              " [37] \"實行\"           \"大規模\"         \"封鎖\"           \"行動\"          \n",
              " [41] \"維持\"           \"正常\"           \"上班\"           \"上課\"          \n",
              " [45] \"與\"             \"各種\"           \"經濟\"           \"活動\"          \n",
              " [49] \"至今\"           \"無\"             \"大規模\"         \"疫情\"          \n",
              " [53] \"爆發\"           \"醫療體系\"       \"也\"             \"仍\"            \n",
              " [57] \"能\"             \"正常\"           \"提供\"           \"民衆服務\"      \n",
              " [61] \"顯示\"           \"台灣\"           \"的\"             \"防疫\"          \n",
              " [65] \"政策\"           \"正確\"           \"而\"             \"有效\"          \n",
              " [69] \"獲得\"           \"世界\"           \"各國\"           \"高度肯定\"      \n",
              " [73] \"國家衛生研究院\" \"群體\"           \"健康\"           \"學\"            \n",
              " [77] \"研究所\"         \"與\"             \"感染\"           \"症\"            \n",
              " [81] \"與\"             \"疫苗\"           \"研究所\"         \"合作\"          \n",
              " [85] \"利用\"           \"真實\"           \"數據\"           \"與\"            \n",
              " [89] \"數學模型\"       \"證實\"           \"良好\"           \"的\"            \n",
              " [93] \"邊境\"           \"管控\"           \"詳盡\"           \"的\"            \n",
              " [97] \"疫情\"           \"調查\"           \"確實\"           \"的\"            \n",
              "[101] \"隔離\"           \"與\"             \"檢疫\"           \"以及\"          \n",
              "[105] \"民衆\"           \"遵行\"           \"防疫措施\"       \"為\"            \n",
              "[109] \"台灣\"           \"抗疫\"           \"四大\"           \"支柱\"          \n",
              "[113] \"台灣\"           \"也\"             \"對\"             \"世界\"          \n",
              "[117] \"各國\"           \"提供\"           \"各項\"           \"協助\"          \n",
              "[121] \"與\"             \"經驗\"           \"分享\"           \"期望\"          \n",
              "[125] \"幫助\"           \"各國\"           \"儘快\"           \"從\"            \n",
              "[129] \"疫情\"           \"的\"             \"陰霾\"           \"中\"            \n",
              "[133] \"走出\"          "
            ],
            "text/latex": "\\begin{enumerate*}\n\\item '嚴重'\n\\item '特殊'\n\\item '傳染性肺炎'\n\\item '疫情'\n\\item '持續'\n\\item '在'\n\\item '全球'\n\\item '蔓延'\n\\item '已'\n\\item '造成'\n\\item '三千多萬'\n\\item '人'\n\\item '感染'\n\\item '死亡'\n\\item '人數'\n\\item '破'\n\\item '百萬'\n\\item '人'\n\\item '歐美'\n\\item '醫療體系'\n\\item '近乎'\n\\item '崩潰'\n\\item '各種'\n\\item '行動'\n\\item '限制'\n\\item '對於'\n\\item '各國'\n\\item '經濟'\n\\item '更'\n\\item '有'\n\\item '莫大'\n\\item '之'\n\\item '衝擊'\n\\item '然而'\n\\item '台灣'\n\\item '未'\n\\item '實行'\n\\item '大規模'\n\\item '封鎖'\n\\item '行動'\n\\item '維持'\n\\item '正常'\n\\item '上班'\n\\item '上課'\n\\item '與'\n\\item '各種'\n\\item '經濟'\n\\item '活動'\n\\item '至今'\n\\item '無'\n\\item '大規模'\n\\item '疫情'\n\\item '爆發'\n\\item '醫療體系'\n\\item '也'\n\\item '仍'\n\\item '能'\n\\item '正常'\n\\item '提供'\n\\item '民衆服務'\n\\item '顯示'\n\\item '台灣'\n\\item '的'\n\\item '防疫'\n\\item '政策'\n\\item '正確'\n\\item '而'\n\\item '有效'\n\\item '獲得'\n\\item '世界'\n\\item '各國'\n\\item '高度肯定'\n\\item '國家衛生研究院'\n\\item '群體'\n\\item '健康'\n\\item '學'\n\\item '研究所'\n\\item '與'\n\\item '感染'\n\\item '症'\n\\item '與'\n\\item '疫苗'\n\\item '研究所'\n\\item '合作'\n\\item '利用'\n\\item '真實'\n\\item '數據'\n\\item '與'\n\\item '數學模型'\n\\item '證實'\n\\item '良好'\n\\item '的'\n\\item '邊境'\n\\item '管控'\n\\item '詳盡'\n\\item '的'\n\\item '疫情'\n\\item '調查'\n\\item '確實'\n\\item '的'\n\\item '隔離'\n\\item '與'\n\\item '檢疫'\n\\item '以及'\n\\item '民衆'\n\\item '遵行'\n\\item '防疫措施'\n\\item '為'\n\\item '台灣'\n\\item '抗疫'\n\\item '四大'\n\\item '支柱'\n\\item '台灣'\n\\item '也'\n\\item '對'\n\\item '世界'\n\\item '各國'\n\\item '提供'\n\\item '各項'\n\\item '協助'\n\\item '與'\n\\item '經驗'\n\\item '分享'\n\\item '期望'\n\\item '幫助'\n\\item '各國'\n\\item '儘快'\n\\item '從'\n\\item '疫情'\n\\item '的'\n\\item '陰霾'\n\\item '中'\n\\item '走出'\n\\end{enumerate*}\n",
            "text/markdown": "1. '嚴重'\n2. '特殊'\n3. '傳染性肺炎'\n4. '疫情'\n5. '持續'\n6. '在'\n7. '全球'\n8. '蔓延'\n9. '已'\n10. '造成'\n11. '三千多萬'\n12. '人'\n13. '感染'\n14. '死亡'\n15. '人數'\n16. '破'\n17. '百萬'\n18. '人'\n19. '歐美'\n20. '醫療體系'\n21. '近乎'\n22. '崩潰'\n23. '各種'\n24. '行動'\n25. '限制'\n26. '對於'\n27. '各國'\n28. '經濟'\n29. '更'\n30. '有'\n31. '莫大'\n32. '之'\n33. '衝擊'\n34. '然而'\n35. '台灣'\n36. '未'\n37. '實行'\n38. '大規模'\n39. '封鎖'\n40. '行動'\n41. '維持'\n42. '正常'\n43. '上班'\n44. '上課'\n45. '與'\n46. '各種'\n47. '經濟'\n48. '活動'\n49. '至今'\n50. '無'\n51. '大規模'\n52. '疫情'\n53. '爆發'\n54. '醫療體系'\n55. '也'\n56. '仍'\n57. '能'\n58. '正常'\n59. '提供'\n60. '民衆服務'\n61. '顯示'\n62. '台灣'\n63. '的'\n64. '防疫'\n65. '政策'\n66. '正確'\n67. '而'\n68. '有效'\n69. '獲得'\n70. '世界'\n71. '各國'\n72. '高度肯定'\n73. '國家衛生研究院'\n74. '群體'\n75. '健康'\n76. '學'\n77. '研究所'\n78. '與'\n79. '感染'\n80. '症'\n81. '與'\n82. '疫苗'\n83. '研究所'\n84. '合作'\n85. '利用'\n86. '真實'\n87. '數據'\n88. '與'\n89. '數學模型'\n90. '證實'\n91. '良好'\n92. '的'\n93. '邊境'\n94. '管控'\n95. '詳盡'\n96. '的'\n97. '疫情'\n98. '調查'\n99. '確實'\n100. '的'\n101. '隔離'\n102. '與'\n103. '檢疫'\n104. '以及'\n105. '民衆'\n106. '遵行'\n107. '防疫措施'\n108. '為'\n109. '台灣'\n110. '抗疫'\n111. '四大'\n112. '支柱'\n113. '台灣'\n114. '也'\n115. '對'\n116. '世界'\n117. '各國'\n118. '提供'\n119. '各項'\n120. '協助'\n121. '與'\n122. '經驗'\n123. '分享'\n124. '期望'\n125. '幫助'\n126. '各國'\n127. '儘快'\n128. '從'\n129. '疫情'\n130. '的'\n131. '陰霾'\n132. '中'\n133. '走出'\n\n\n",
            "text/html": [
              "<style>\n",
              ".list-inline {list-style: none; margin:0; padding: 0}\n",
              ".list-inline>li {display: inline-block}\n",
              ".list-inline>li:not(:last-child)::after {content: \"\\00b7\"; padding: 0 .5ex}\n",
              "</style>\n",
              "<ol class=list-inline><li>'嚴重'</li><li>'特殊'</li><li>'傳染性肺炎'</li><li>'疫情'</li><li>'持續'</li><li>'在'</li><li>'全球'</li><li>'蔓延'</li><li>'已'</li><li>'造成'</li><li>'三千多萬'</li><li>'人'</li><li>'感染'</li><li>'死亡'</li><li>'人數'</li><li>'破'</li><li>'百萬'</li><li>'人'</li><li>'歐美'</li><li>'醫療體系'</li><li>'近乎'</li><li>'崩潰'</li><li>'各種'</li><li>'行動'</li><li>'限制'</li><li>'對於'</li><li>'各國'</li><li>'經濟'</li><li>'更'</li><li>'有'</li><li>'莫大'</li><li>'之'</li><li>'衝擊'</li><li>'然而'</li><li>'台灣'</li><li>'未'</li><li>'實行'</li><li>'大規模'</li><li>'封鎖'</li><li>'行動'</li><li>'維持'</li><li>'正常'</li><li>'上班'</li><li>'上課'</li><li>'與'</li><li>'各種'</li><li>'經濟'</li><li>'活動'</li><li>'至今'</li><li>'無'</li><li>'大規模'</li><li>'疫情'</li><li>'爆發'</li><li>'醫療體系'</li><li>'也'</li><li>'仍'</li><li>'能'</li><li>'正常'</li><li>'提供'</li><li>'民衆服務'</li><li>'顯示'</li><li>'台灣'</li><li>'的'</li><li>'防疫'</li><li>'政策'</li><li>'正確'</li><li>'而'</li><li>'有效'</li><li>'獲得'</li><li>'世界'</li><li>'各國'</li><li>'高度肯定'</li><li>'國家衛生研究院'</li><li>'群體'</li><li>'健康'</li><li>'學'</li><li>'研究所'</li><li>'與'</li><li>'感染'</li><li>'症'</li><li>'與'</li><li>'疫苗'</li><li>'研究所'</li><li>'合作'</li><li>'利用'</li><li>'真實'</li><li>'數據'</li><li>'與'</li><li>'數學模型'</li><li>'證實'</li><li>'良好'</li><li>'的'</li><li>'邊境'</li><li>'管控'</li><li>'詳盡'</li><li>'的'</li><li>'疫情'</li><li>'調查'</li><li>'確實'</li><li>'的'</li><li>'隔離'</li><li>'與'</li><li>'檢疫'</li><li>'以及'</li><li>'民衆'</li><li>'遵行'</li><li>'防疫措施'</li><li>'為'</li><li>'台灣'</li><li>'抗疫'</li><li>'四大'</li><li>'支柱'</li><li>'台灣'</li><li>'也'</li><li>'對'</li><li>'世界'</li><li>'各國'</li><li>'提供'</li><li>'各項'</li><li>'協助'</li><li>'與'</li><li>'經驗'</li><li>'分享'</li><li>'期望'</li><li>'幫助'</li><li>'各國'</li><li>'儘快'</li><li>'從'</li><li>'疫情'</li><li>'的'</li><li>'陰霾'</li><li>'中'</li><li>'走出'</li></ol>\n"
            ]
          },
          "metadata": {
            "tags": []
          }
        }
      ]
    },
    {
      "cell_type": "code",
      "metadata": {
        "id": "VWAeBcIpnvj_",
        "outputId": "314f9e44-7385-4557-b4e2-c279605a8740",
        "colab": {
          "base_uri": "https://localhost:8080/",
          "height": 190
        }
      },
      "source": [
        "new_words <-c(\"傳染性肺炎\",\"醫療體系\",\"防疫措施\")\n",
        "writeLines(new_words,\"new_words.txt\")\n",
        "\n",
        "stop_words <-c(\"在\",\"之\",\"更\",\"個\",\"未\",\"而\",\"也\")\n",
        "writeLines(stop_words,\"stop_words.txt\")\n",
        "\n",
        "cutter<-worker(user=\"new_words.txt\",stop_word = \"stop_words.txt\",\n",
        "bylines=FALSE)\n",
        "seg_words<-cutter[content]\n",
        "seg_words"
      ],
      "execution_count": 41,
      "outputs": [
        {
          "output_type": "display_data",
          "data": {
            "text/plain": [
              "  [1] \"嚴重\"           \"特殊\"           \"傳染性肺炎\"     \"疫情\"          \n",
              "  [5] \"持續\"           \"全球\"           \"蔓延\"           \"已\"            \n",
              "  [9] \"造成\"           \"三千多萬\"       \"人\"             \"感染\"          \n",
              " [13] \"死亡\"           \"人數\"           \"破\"             \"百萬\"          \n",
              " [17] \"人\"             \"歐美\"           \"醫療體系\"       \"近乎\"          \n",
              " [21] \"崩潰\"           \"各種\"           \"行動\"           \"限制\"          \n",
              " [25] \"對於\"           \"各國\"           \"經濟\"           \"有\"            \n",
              " [29] \"莫大\"           \"衝擊\"           \"然而\"           \"台灣\"          \n",
              " [33] \"實行\"           \"大規模\"         \"封鎖\"           \"行動\"          \n",
              " [37] \"維持\"           \"正常\"           \"上班\"           \"上課\"          \n",
              " [41] \"與\"             \"各種\"           \"經濟\"           \"活動\"          \n",
              " [45] \"至今\"           \"無\"             \"大規模\"         \"疫情\"          \n",
              " [49] \"爆發\"           \"醫療體系\"       \"仍\"             \"能\"            \n",
              " [53] \"正常\"           \"提供\"           \"民衆服務\"       \"顯示\"          \n",
              " [57] \"台灣\"           \"的\"             \"防疫\"           \"政策\"          \n",
              " [61] \"正確\"           \"有效\"           \"獲得\"           \"世界\"          \n",
              " [65] \"各國\"           \"高度肯定\"       \"國家衛生研究院\" \"群體\"          \n",
              " [69] \"健康\"           \"學\"             \"研究所\"         \"與\"            \n",
              " [73] \"感染\"           \"症\"             \"與\"             \"疫苗\"          \n",
              " [77] \"研究所\"         \"合作\"           \"利用\"           \"真實\"          \n",
              " [81] \"數據\"           \"與\"             \"數學模型\"       \"證實\"          \n",
              " [85] \"良好\"           \"的\"             \"邊境\"           \"管控\"          \n",
              " [89] \"詳盡\"           \"的\"             \"疫情\"           \"調查\"          \n",
              " [93] \"確實\"           \"的\"             \"隔離\"           \"與\"            \n",
              " [97] \"檢疫\"           \"以及\"           \"民衆\"           \"遵行\"          \n",
              "[101] \"防疫措施\"       \"為\"             \"台灣\"           \"抗疫\"          \n",
              "[105] \"四大\"           \"支柱\"           \"台灣\"           \"對\"            \n",
              "[109] \"世界\"           \"各國\"           \"提供\"           \"各項\"          \n",
              "[113] \"協助\"           \"與\"             \"經驗\"           \"分享\"          \n",
              "[117] \"期望\"           \"幫助\"           \"各國\"           \"儘快\"          \n",
              "[121] \"從\"             \"疫情\"           \"的\"             \"陰霾\"          \n",
              "[125] \"中\"             \"走出\"          "
            ],
            "text/latex": "\\begin{enumerate*}\n\\item '嚴重'\n\\item '特殊'\n\\item '傳染性肺炎'\n\\item '疫情'\n\\item '持續'\n\\item '全球'\n\\item '蔓延'\n\\item '已'\n\\item '造成'\n\\item '三千多萬'\n\\item '人'\n\\item '感染'\n\\item '死亡'\n\\item '人數'\n\\item '破'\n\\item '百萬'\n\\item '人'\n\\item '歐美'\n\\item '醫療體系'\n\\item '近乎'\n\\item '崩潰'\n\\item '各種'\n\\item '行動'\n\\item '限制'\n\\item '對於'\n\\item '各國'\n\\item '經濟'\n\\item '有'\n\\item '莫大'\n\\item '衝擊'\n\\item '然而'\n\\item '台灣'\n\\item '實行'\n\\item '大規模'\n\\item '封鎖'\n\\item '行動'\n\\item '維持'\n\\item '正常'\n\\item '上班'\n\\item '上課'\n\\item '與'\n\\item '各種'\n\\item '經濟'\n\\item '活動'\n\\item '至今'\n\\item '無'\n\\item '大規模'\n\\item '疫情'\n\\item '爆發'\n\\item '醫療體系'\n\\item '仍'\n\\item '能'\n\\item '正常'\n\\item '提供'\n\\item '民衆服務'\n\\item '顯示'\n\\item '台灣'\n\\item '的'\n\\item '防疫'\n\\item '政策'\n\\item '正確'\n\\item '有效'\n\\item '獲得'\n\\item '世界'\n\\item '各國'\n\\item '高度肯定'\n\\item '國家衛生研究院'\n\\item '群體'\n\\item '健康'\n\\item '學'\n\\item '研究所'\n\\item '與'\n\\item '感染'\n\\item '症'\n\\item '與'\n\\item '疫苗'\n\\item '研究所'\n\\item '合作'\n\\item '利用'\n\\item '真實'\n\\item '數據'\n\\item '與'\n\\item '數學模型'\n\\item '證實'\n\\item '良好'\n\\item '的'\n\\item '邊境'\n\\item '管控'\n\\item '詳盡'\n\\item '的'\n\\item '疫情'\n\\item '調查'\n\\item '確實'\n\\item '的'\n\\item '隔離'\n\\item '與'\n\\item '檢疫'\n\\item '以及'\n\\item '民衆'\n\\item '遵行'\n\\item '防疫措施'\n\\item '為'\n\\item '台灣'\n\\item '抗疫'\n\\item '四大'\n\\item '支柱'\n\\item '台灣'\n\\item '對'\n\\item '世界'\n\\item '各國'\n\\item '提供'\n\\item '各項'\n\\item '協助'\n\\item '與'\n\\item '經驗'\n\\item '分享'\n\\item '期望'\n\\item '幫助'\n\\item '各國'\n\\item '儘快'\n\\item '從'\n\\item '疫情'\n\\item '的'\n\\item '陰霾'\n\\item '中'\n\\item '走出'\n\\end{enumerate*}\n",
            "text/markdown": "1. '嚴重'\n2. '特殊'\n3. '傳染性肺炎'\n4. '疫情'\n5. '持續'\n6. '全球'\n7. '蔓延'\n8. '已'\n9. '造成'\n10. '三千多萬'\n11. '人'\n12. '感染'\n13. '死亡'\n14. '人數'\n15. '破'\n16. '百萬'\n17. '人'\n18. '歐美'\n19. '醫療體系'\n20. '近乎'\n21. '崩潰'\n22. '各種'\n23. '行動'\n24. '限制'\n25. '對於'\n26. '各國'\n27. '經濟'\n28. '有'\n29. '莫大'\n30. '衝擊'\n31. '然而'\n32. '台灣'\n33. '實行'\n34. '大規模'\n35. '封鎖'\n36. '行動'\n37. '維持'\n38. '正常'\n39. '上班'\n40. '上課'\n41. '與'\n42. '各種'\n43. '經濟'\n44. '活動'\n45. '至今'\n46. '無'\n47. '大規模'\n48. '疫情'\n49. '爆發'\n50. '醫療體系'\n51. '仍'\n52. '能'\n53. '正常'\n54. '提供'\n55. '民衆服務'\n56. '顯示'\n57. '台灣'\n58. '的'\n59. '防疫'\n60. '政策'\n61. '正確'\n62. '有效'\n63. '獲得'\n64. '世界'\n65. '各國'\n66. '高度肯定'\n67. '國家衛生研究院'\n68. '群體'\n69. '健康'\n70. '學'\n71. '研究所'\n72. '與'\n73. '感染'\n74. '症'\n75. '與'\n76. '疫苗'\n77. '研究所'\n78. '合作'\n79. '利用'\n80. '真實'\n81. '數據'\n82. '與'\n83. '數學模型'\n84. '證實'\n85. '良好'\n86. '的'\n87. '邊境'\n88. '管控'\n89. '詳盡'\n90. '的'\n91. '疫情'\n92. '調查'\n93. '確實'\n94. '的'\n95. '隔離'\n96. '與'\n97. '檢疫'\n98. '以及'\n99. '民衆'\n100. '遵行'\n101. '防疫措施'\n102. '為'\n103. '台灣'\n104. '抗疫'\n105. '四大'\n106. '支柱'\n107. '台灣'\n108. '對'\n109. '世界'\n110. '各國'\n111. '提供'\n112. '各項'\n113. '協助'\n114. '與'\n115. '經驗'\n116. '分享'\n117. '期望'\n118. '幫助'\n119. '各國'\n120. '儘快'\n121. '從'\n122. '疫情'\n123. '的'\n124. '陰霾'\n125. '中'\n126. '走出'\n\n\n",
            "text/html": [
              "<style>\n",
              ".list-inline {list-style: none; margin:0; padding: 0}\n",
              ".list-inline>li {display: inline-block}\n",
              ".list-inline>li:not(:last-child)::after {content: \"\\00b7\"; padding: 0 .5ex}\n",
              "</style>\n",
              "<ol class=list-inline><li>'嚴重'</li><li>'特殊'</li><li>'傳染性肺炎'</li><li>'疫情'</li><li>'持續'</li><li>'全球'</li><li>'蔓延'</li><li>'已'</li><li>'造成'</li><li>'三千多萬'</li><li>'人'</li><li>'感染'</li><li>'死亡'</li><li>'人數'</li><li>'破'</li><li>'百萬'</li><li>'人'</li><li>'歐美'</li><li>'醫療體系'</li><li>'近乎'</li><li>'崩潰'</li><li>'各種'</li><li>'行動'</li><li>'限制'</li><li>'對於'</li><li>'各國'</li><li>'經濟'</li><li>'有'</li><li>'莫大'</li><li>'衝擊'</li><li>'然而'</li><li>'台灣'</li><li>'實行'</li><li>'大規模'</li><li>'封鎖'</li><li>'行動'</li><li>'維持'</li><li>'正常'</li><li>'上班'</li><li>'上課'</li><li>'與'</li><li>'各種'</li><li>'經濟'</li><li>'活動'</li><li>'至今'</li><li>'無'</li><li>'大規模'</li><li>'疫情'</li><li>'爆發'</li><li>'醫療體系'</li><li>'仍'</li><li>'能'</li><li>'正常'</li><li>'提供'</li><li>'民衆服務'</li><li>'顯示'</li><li>'台灣'</li><li>'的'</li><li>'防疫'</li><li>'政策'</li><li>'正確'</li><li>'有效'</li><li>'獲得'</li><li>'世界'</li><li>'各國'</li><li>'高度肯定'</li><li>'國家衛生研究院'</li><li>'群體'</li><li>'健康'</li><li>'學'</li><li>'研究所'</li><li>'與'</li><li>'感染'</li><li>'症'</li><li>'與'</li><li>'疫苗'</li><li>'研究所'</li><li>'合作'</li><li>'利用'</li><li>'真實'</li><li>'數據'</li><li>'與'</li><li>'數學模型'</li><li>'證實'</li><li>'良好'</li><li>'的'</li><li>'邊境'</li><li>'管控'</li><li>'詳盡'</li><li>'的'</li><li>'疫情'</li><li>'調查'</li><li>'確實'</li><li>'的'</li><li>'隔離'</li><li>'與'</li><li>'檢疫'</li><li>'以及'</li><li>'民衆'</li><li>'遵行'</li><li>'防疫措施'</li><li>'為'</li><li>'台灣'</li><li>'抗疫'</li><li>'四大'</li><li>'支柱'</li><li>'台灣'</li><li>'對'</li><li>'世界'</li><li>'各國'</li><li>'提供'</li><li>'各項'</li><li>'協助'</li><li>'與'</li><li>'經驗'</li><li>'分享'</li><li>'期望'</li><li>'幫助'</li><li>'各國'</li><li>'儘快'</li><li>'從'</li><li>'疫情'</li><li>'的'</li><li>'陰霾'</li><li>'中'</li><li>'走出'</li></ol>\n"
            ]
          },
          "metadata": {
            "tags": []
          }
        }
      ]
    },
    {
      "cell_type": "code",
      "metadata": {
        "id": "sf33j-IFp0Uu",
        "outputId": "70b0e46a-7000-4f64-c991-28e3229168ba",
        "colab": {
          "base_uri": "https://localhost:8080/",
          "height": 217
        }
      },
      "source": [
        "txt_freq <- freq(seg_words)\n",
        "txt_freq <- arrange(txt_freq,desc(freq))\n",
        "head(txt_freq)"
      ],
      "execution_count": 44,
      "outputs": [
        {
          "output_type": "display_data",
          "data": {
            "text/plain": [
              "  char freq\n",
              "1 與   6   \n",
              "2 的   5   \n",
              "3 各國 4   \n",
              "4 疫情 4   \n",
              "5 台灣 4   \n",
              "6 經濟 2   "
            ],
            "text/latex": "A data.frame: 6 × 2\n\\begin{tabular}{r|ll}\n  & char & freq\\\\\n  & <chr> & <dbl>\\\\\n\\hline\n\t1 & 與   & 6\\\\\n\t2 & 的   & 5\\\\\n\t3 & 各國 & 4\\\\\n\t4 & 疫情 & 4\\\\\n\t5 & 台灣 & 4\\\\\n\t6 & 經濟 & 2\\\\\n\\end{tabular}\n",
            "text/markdown": "\nA data.frame: 6 × 2\n\n| <!--/--> | char &lt;chr&gt; | freq &lt;dbl&gt; |\n|---|---|---|\n| 1 | 與   | 6 |\n| 2 | 的   | 5 |\n| 3 | 各國 | 4 |\n| 4 | 疫情 | 4 |\n| 5 | 台灣 | 4 |\n| 6 | 經濟 | 2 |\n\n",
            "text/html": [
              "<table>\n",
              "<caption>A data.frame: 6 × 2</caption>\n",
              "<thead>\n",
              "\t<tr><th></th><th scope=col>char</th><th scope=col>freq</th></tr>\n",
              "\t<tr><th></th><th scope=col>&lt;chr&gt;</th><th scope=col>&lt;dbl&gt;</th></tr>\n",
              "</thead>\n",
              "<tbody>\n",
              "\t<tr><th scope=row>1</th><td>與  </td><td>6</td></tr>\n",
              "\t<tr><th scope=row>2</th><td>的  </td><td>5</td></tr>\n",
              "\t<tr><th scope=row>3</th><td>各國</td><td>4</td></tr>\n",
              "\t<tr><th scope=row>4</th><td>疫情</td><td>4</td></tr>\n",
              "\t<tr><th scope=row>5</th><td>台灣</td><td>4</td></tr>\n",
              "\t<tr><th scope=row>6</th><td>經濟</td><td>2</td></tr>\n",
              "</tbody>\n",
              "</table>\n"
            ]
          },
          "metadata": {
            "tags": []
          }
        }
      ]
    },
    {
      "cell_type": "code",
      "metadata": {
        "id": "Kpm__LrYsVLO",
        "outputId": "d73decf3-9758-4458-99e3-c8cadef59e6d",
        "colab": {
          "base_uri": "https://localhost:8080/"
        }
      },
      "source": [
        "install.packages(\"showtext\")"
      ],
      "execution_count": 56,
      "outputs": [
        {
          "output_type": "stream",
          "text": [
            "Installing package into ‘/usr/local/lib/R/site-library’\n",
            "(as ‘lib’ is unspecified)\n",
            "\n",
            "also installing the dependencies ‘sysfonts’, ‘showtextdb’\n",
            "\n",
            "\n"
          ],
          "name": "stderr"
        }
      ]
    },
    {
      "cell_type": "code",
      "metadata": {
        "id": "VXuKKpFpsjE-",
        "outputId": "7f9d9725-ec03-4b41-85fc-9deefcfb54fd",
        "colab": {
          "base_uri": "https://localhost:8080/"
        }
      },
      "source": [
        "library(showtext)"
      ],
      "execution_count": 57,
      "outputs": [
        {
          "output_type": "stream",
          "text": [
            "Loading required package: sysfonts\n",
            "\n",
            "Loading required package: showtextdb\n",
            "\n"
          ],
          "name": "stderr"
        }
      ]
    },
    {
      "cell_type": "code",
      "metadata": {
        "id": "QEBVMQlTrDHD",
        "outputId": "d0e4c7cd-77a3-40bf-fede-a28fc5211e0b",
        "colab": {
          "base_uri": "https://localhost:8080/",
          "height": 437
        }
      },
      "source": [
        "par(family=(\"Microsoft YaHei\"))\n",
        "wordcloud(txt_freq$char, txt_freq$freq, min.freq=2, random.order=F,\n",
        "ordered.colors=F,colors=rainbow(nrow(txt_freq)))"
      ],
      "execution_count": 59,
      "outputs": [
        {
          "output_type": "display_data",
          "data": {
            "image/png": "[encoded data removed]",
            "text/plain": [
              "plot without title"
            ]
          },
          "metadata": {
            "tags": [],
            "image/png": {
              "width": 420,
              "height": 420
            }
          }
        }
      ]
    }
  ]
}