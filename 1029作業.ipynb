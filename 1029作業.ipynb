{
  "nbformat": 4,
  "nbformat_minor": 0,
  "metadata": {
    "colab": {
      "name": "1029作業.ipynb",
      "provenance": [],
      "collapsed_sections": [],
      "include_colab_link": true
    },
    "kernelspec": {
      "name": "ir",
      "display_name": "R"
    }
  },
  "cells": [
    {
      "cell_type": "markdown",
      "metadata": {
        "id": "view-in-github",
        "colab_type": "text"
      },
      "source": [
        "<a href=\"https://colab.research.google.com/github/Darren0735/Darren/blob/master/1029%E4%BD%9C%E6%A5%AD.ipynb\" target=\"_parent\"><img src=\"https://colab.research.google.com/assets/colab-badge.svg\" alt=\"Open In Colab\"/></a>"
      ]
    },
    {
      "cell_type": "code",
      "metadata": {
        "id": "2HDPcnxaYyzC",
        "outputId": "0c9513d8-747a-40f9-cd6a-7e6af44e289e",
        "colab": {
          "base_uri": "https://localhost:8080/"
        }
      },
      "source": [
        "install.packages(\"readr\")"
      ],
      "execution_count": 11,
      "outputs": [
        {
          "output_type": "stream",
          "text": [
            "Installing package into ‘/usr/local/lib/R/site-library’\n",
            "(as ‘lib’ is unspecified)\n",
            "\n"
          ],
          "name": "stderr"
        }
      ]
    },
    {
      "cell_type": "code",
      "metadata": {
        "id": "SmqJn1S6cslT",
        "outputId": "3b6572b5-c5f5-4a8e-b124-262fee30621b",
        "colab": {
          "base_uri": "https://localhost:8080/"
        }
      },
      "source": [
        "install.packages(\"ggplot2\")"
      ],
      "execution_count": 18,
      "outputs": [
        {
          "output_type": "stream",
          "text": [
            "Installing package into ‘/usr/local/lib/R/site-library’\n",
            "(as ‘lib’ is unspecified)\n",
            "\n"
          ],
          "name": "stderr"
        }
      ]
    },
    {
      "cell_type": "code",
      "metadata": {
        "id": "3wygHznlc9Yz"
      },
      "source": [
        "library(readr)\n",
        "library(ggplot2)"
      ],
      "execution_count": 16,
      "outputs": []
    },
    {
      "cell_type": "code",
      "metadata": {
        "id": "o3pDz2SndHaQ"
      },
      "source": [
        "height <- read.csv(\"學生身高平均值(6歲-15歲).csv\")"
      ],
      "execution_count": 15,
      "outputs": []
    },
    {
      "cell_type": "code",
      "metadata": {
        "id": "pphBepKadxtS",
        "outputId": "635a709a-db42-4e2c-d6d1-e26cc9c9dbd4",
        "colab": {
          "base_uri": "https://localhost:8080/"
        }
      },
      "source": [
        "str(height)"
      ],
      "execution_count": 14,
      "outputs": [
        {
          "output_type": "stream",
          "text": [
            "'data.frame':\t120 obs. of  5 variables:\n",
            " $ 學年度: int  96 96 96 96 96 96 96 96 96 96 ...\n",
            " $ 年齡  : int  6 7 8 9 10 11 12 13 14 15 ...\n",
            " $ 總計  : num  117 121 127 133 139 ...\n",
            " $ 男    : num  118 122 128 133 138 ...\n",
            " $ 女    : num  117 121 127 133 139 ...\n"
          ],
          "name": "stdout"
        }
      ]
    },
    {
      "cell_type": "code",
      "metadata": {
        "id": "zsrAX-lzd21y",
        "outputId": "bb2c32d4-56e0-429b-b402-4847a0cee353",
        "colab": {
          "base_uri": "https://localhost:8080/",
          "height": 200
        }
      },
      "source": [
        "head(height)"
      ],
      "execution_count": 13,
      "outputs": [
        {
          "output_type": "display_data",
          "data": {
            "text/plain": [
              "  學年度 年齡 總計  男    女   \n",
              "1 96      6   117.1 117.6 116.6\n",
              "2 96      7   121.4 121.9 120.9\n",
              "3 96      8   127.1 127.5 126.7\n",
              "4 96      9   132.8 132.9 132.6\n",
              "5 96     10   138.8 138.5 139.3\n",
              "6 96     11   145.0 144.2 145.9"
            ],
            "text/latex": "A data.frame: 6 × 5\n\\begin{tabular}{r|lllll}\n  & 學年度 & 年齡 & 總計 & 男 & 女\\\\\n  & <int> & <int> & <dbl> & <dbl> & <dbl>\\\\\n\\hline\n\t1 & 96 &  6 & 117.1 & 117.6 & 116.6\\\\\n\t2 & 96 &  7 & 121.4 & 121.9 & 120.9\\\\\n\t3 & 96 &  8 & 127.1 & 127.5 & 126.7\\\\\n\t4 & 96 &  9 & 132.8 & 132.9 & 132.6\\\\\n\t5 & 96 & 10 & 138.8 & 138.5 & 139.3\\\\\n\t6 & 96 & 11 & 145.0 & 144.2 & 145.9\\\\\n\\end{tabular}\n",
            "text/markdown": "\nA data.frame: 6 × 5\n\n| <!--/--> | 學年度 &lt;int&gt; | 年齡 &lt;int&gt; | 總計 &lt;dbl&gt; | 男 &lt;dbl&gt; | 女 &lt;dbl&gt; |\n|---|---|---|---|---|---|\n| 1 | 96 |  6 | 117.1 | 117.6 | 116.6 |\n| 2 | 96 |  7 | 121.4 | 121.9 | 120.9 |\n| 3 | 96 |  8 | 127.1 | 127.5 | 126.7 |\n| 4 | 96 |  9 | 132.8 | 132.9 | 132.6 |\n| 5 | 96 | 10 | 138.8 | 138.5 | 139.3 |\n| 6 | 96 | 11 | 145.0 | 144.2 | 145.9 |\n\n",
            "text/html": [
              "<table>\n",
              "<caption>A data.frame: 6 × 5</caption>\n",
              "<thead>\n",
              "\t<tr><th></th><th scope=col>學年度</th><th scope=col>年齡</th><th scope=col>總計</th><th scope=col>男</th><th scope=col>女</th></tr>\n",
              "\t<tr><th></th><th scope=col>&lt;int&gt;</th><th scope=col>&lt;int&gt;</th><th scope=col>&lt;dbl&gt;</th><th scope=col>&lt;dbl&gt;</th><th scope=col>&lt;dbl&gt;</th></tr>\n",
              "</thead>\n",
              "<tbody>\n",
              "\t<tr><th scope=row>1</th><td>96</td><td> 6</td><td>117.1</td><td>117.6</td><td>116.6</td></tr>\n",
              "\t<tr><th scope=row>2</th><td>96</td><td> 7</td><td>121.4</td><td>121.9</td><td>120.9</td></tr>\n",
              "\t<tr><th scope=row>3</th><td>96</td><td> 8</td><td>127.1</td><td>127.5</td><td>126.7</td></tr>\n",
              "\t<tr><th scope=row>4</th><td>96</td><td> 9</td><td>132.8</td><td>132.9</td><td>132.6</td></tr>\n",
              "\t<tr><th scope=row>5</th><td>96</td><td>10</td><td>138.8</td><td>138.5</td><td>139.3</td></tr>\n",
              "\t<tr><th scope=row>6</th><td>96</td><td>11</td><td>145.0</td><td>144.2</td><td>145.9</td></tr>\n",
              "</tbody>\n",
              "</table>\n"
            ]
          },
          "metadata": {
            "tags": []
          }
        }
      ]
    },
    {
      "cell_type": "code",
      "metadata": {
        "id": "SzEC5ux9fGj6",
        "outputId": "c5835e1d-53f7-4038-e5fe-6c66b3c20677",
        "colab": {
          "base_uri": "https://localhost:8080/",
          "height": 437
        }
      },
      "source": [
        "ggplot(height,aes(x=總計,y=男))+geom_point()"
      ],
      "execution_count": 23,
      "outputs": [
        {
          "output_type": "display_data",
          "data": {
            "image/png": "[encoded data removed]",
            "text/plain": [
              "plot without title"
            ]
          },
          "metadata": {
            "tags": [],
            "image/png": {
              "width": 420,
              "height": 420
            }
          }
        }
      ]
    },
    {
      "cell_type": "code",
      "metadata": {
        "id": "9vV4C9_-fsI9",
        "outputId": "e73849f6-640f-44e0-941d-9f0d33d5d66f",
        "colab": {
          "base_uri": "https://localhost:8080/"
        }
      },
      "source": [
        "install.packages(\"showtext\")"
      ],
      "execution_count": 19,
      "outputs": [
        {
          "output_type": "stream",
          "text": [
            "Installing package into ‘/usr/local/lib/R/site-library’\n",
            "(as ‘lib’ is unspecified)\n",
            "\n",
            "also installing the dependencies ‘sysfonts’, ‘showtextdb’\n",
            "\n",
            "\n"
          ],
          "name": "stderr"
        }
      ]
    },
    {
      "cell_type": "code",
      "metadata": {
        "id": "NV9XBqT8f50K",
        "outputId": "c9ad151c-1e33-4e76-c0ca-ae25fc6d9045",
        "colab": {
          "base_uri": "https://localhost:8080/"
        }
      },
      "source": [
        "library(showtext)"
      ],
      "execution_count": 20,
      "outputs": [
        {
          "output_type": "stream",
          "text": [
            "Loading required package: sysfonts\n",
            "\n",
            "Loading required package: showtextdb\n",
            "\n"
          ],
          "name": "stderr"
        }
      ]
    },
    {
      "cell_type": "code",
      "metadata": {
        "id": "s2OKVZG-f-Cf",
        "outputId": "0416570e-efdb-4f33-aa56-259c3fd50613",
        "colab": {
          "base_uri": "https://localhost:8080/"
        }
      },
      "source": [
        "showtext.auto(enable = TRUE)"
      ],
      "execution_count": 21,
      "outputs": [
        {
          "output_type": "stream",
          "text": [
            "'showtext.auto()' is now renamed to 'showtext_auto()'\n",
            "The old version still works, but consider using the new function in future code\n",
            "\n"
          ],
          "name": "stderr"
        }
      ]
    },
    {
      "cell_type": "code",
      "metadata": {
        "id": "TzATqEnPhpXz",
        "outputId": "9ad3b3fc-605d-4d45-fe16-462feb7c40b8",
        "colab": {
          "base_uri": "https://localhost:8080/",
          "height": 437
        }
      },
      "source": [
        "ggplot(height,aes(x=總計))+geom_bar()"
      ],
      "execution_count": 24,
      "outputs": [
        {
          "output_type": "display_data",
          "data": {
            "image/png": "[encoded data removed]",
            "text/plain": [
              "plot without title"
            ]
          },
          "metadata": {
            "tags": [],
            "image/png": {
              "width": 420,
              "height": 420
            }
          }
        }
      ]
    },
    {
      "cell_type": "code",
      "metadata": {
        "id": "wAt2dxT5oH17",
        "outputId": "4f45389c-54af-4021-c796-dbd1f032cdf0",
        "colab": {
          "base_uri": "https://localhost:8080/",
          "height": 437
        }
      },
      "source": [
        "ggplot(height,aes(x=總計,y=女))+geom_point()"
      ],
      "execution_count": 25,
      "outputs": [
        {
          "output_type": "display_data",
          "data": {
            "image/png": "[encoded data removed]",
            "text/plain": [
              "plot without title"
            ]
          },
          "metadata": {
            "tags": [],
            "image/png": {
              "width": 420,
              "height": 420
            }
          }
        }
      ]
    },
    {
      "cell_type": "code",
      "metadata": {
        "id": "qFDE7oxdoP94",
        "outputId": "30cd088b-6806-4a69-8067-6c51e7d6965d",
        "colab": {
          "base_uri": "https://localhost:8080/",
          "height": 437
        }
      },
      "source": [
        "ggplot(height,aes(x=女))+geom_bar()"
      ],
      "execution_count": 27,
      "outputs": [
        {
          "output_type": "display_data",
          "data": {
            "image/png": "[encoded data removed]",
            "text/plain": [
              "plot without title"
            ]
          },
          "metadata": {
            "tags": [],
            "image/png": {
              "width": 420,
              "height": 420
            }
          }
        }
      ]
    }
  ]
}